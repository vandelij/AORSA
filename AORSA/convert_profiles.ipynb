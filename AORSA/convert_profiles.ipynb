{
 "cells": [
  {
   "cell_type": "code",
   "execution_count": 4,
   "metadata": {},
   "outputs": [],
   "source": [
    "import numpy as np\n",
    "import matplotlib.pyplot as plt\n",
    "import re\n",
    "from scipy import interpolate\n"
   ]
  },
  {
   "cell_type": "code",
   "execution_count": 5,
   "metadata": {},
   "outputs": [],
   "source": [
    "def createInputFileDictionary(path):\n",
    "    inputFile = open(path,'r')\n",
    "    \n",
    "    inputFileDict = {}\n",
    "    \n",
    "    inputLines = inputFile.readlines()\n",
    "    \n",
    "    variableValue = ''\n",
    "    variableName = ''\n",
    "\n",
    "    sectionName = ''\n",
    "\n",
    "    for i in range(len(inputLines)):\n",
    "        line = inputLines[i].strip()\n",
    "        if len(line) == 0:\n",
    "            continue\n",
    "        if line[0] == '!' or line[1] == '!':\n",
    "            continue\n",
    "        if line[0] == '&':# and line[1:]!='end':\n",
    "            #if this is not the first section, add the last variable to the dictionary before moving onto this new section\n",
    "            if sectionName != '':\n",
    "                addVariable(inputFileDict, sectionName, variableName, variableValue)\n",
    "                variableValue = ''\n",
    "                variableName = ''\n",
    "\n",
    "            sectionName = line[1:]\n",
    "            inputFileDict[sectionName] = {}\n",
    "            continue \n",
    "\n",
    "\n",
    "        #\"\"\"       \n",
    "        splitLine = line.split('=')\n",
    "        \n",
    "        #if this line is a continuation of a previous variable\n",
    "        if len(splitLine) == 1:\n",
    "            splitLine = re.sub(\"\\s+\", \",\", splitLine[0].strip()).replace(' ',',')\n",
    "            variableValue = variableValue + splitLine + ','\n",
    "            if i == len(inputLines) - 1:\n",
    "                addVariable(inputFileDict, sectionName, variableName, variableValue)\n",
    "        #if this is a new variable\n",
    "        else:\n",
    "            if variableName != '':\n",
    "                addVariable(inputFileDict, sectionName, variableName, variableValue)\n",
    "                variableValue = ''\n",
    "                variableName = ''\n",
    "            \n",
    "            variableName = splitLine[0].strip(); variableValue = re.sub(\"\\s+\", \",\", splitLine[1].strip()).replace(' ',',') + ','\n",
    "        #\"\"\"\n",
    "            \n",
    "    return inputFileDict\n",
    "    \n",
    "def addVariable(dictionary, sectionName, variableName, variableValue):\n",
    "    #get rid of extra comma at the end\n",
    "    #print(f\"{sectionName, variableName, variableValue}\")\n",
    "    variableValue = variableValue.replace(',,',',')\n",
    "    variableValue = variableValue[:-1]\n",
    "    splitVariable = np.array(variableValue.split(','))\n",
    "        \n",
    "    try:  \n",
    "        if len(splitVariable) > 1:\n",
    "            dictionary[sectionName][variableName]=np.array([float(var) for var in splitVariable])\n",
    "\n",
    "        else:\n",
    "            try: \n",
    "                dictionary[sectionName][variableName]=float(variableValue)\n",
    "            except:\n",
    "                dictionary[sectionName][variableName]=variableValue\n",
    "    except Exception as e:\n",
    "        pass"
   ]
  },
  {
   "cell_type": "code",
   "execution_count": 6,
   "metadata": {},
   "outputs": [
    {
     "name": "stdout",
     "output_type": "stream",
     "text": [
      "[6.74098969 7.25380564 7.25380564 6.72364865 7.20479843 7.20479843\n",
      " 6.67265603 7.07684038 7.07684038 6.58849863 6.89573748 6.89573748\n",
      " 6.47141282 6.68765899 6.68765899 6.32152892 6.47706664 6.47706664\n",
      " 6.13876311 6.27182494 6.27182494 5.92278611 6.07167619 6.07167619\n",
      " 5.67544409 5.87631333 5.87631333 5.40126906 5.68551751 5.68551751\n",
      " 5.10532681 5.49911191 5.49911191 4.79320905 5.31695477 5.31695477\n",
      " 4.47112568 5.13905572 5.13905572 4.14670303 4.96528402 4.96528402\n",
      " 3.82860471 4.79566177 4.79566177 3.52468888 4.63029166 4.63029166\n",
      " 3.23695841 4.46928027 4.46928027 2.96653691 4.31278779 4.31278779\n",
      " 2.71504556 4.16108479 4.16108479 2.4844808  4.01449688 4.01449688\n",
      " 2.27791604 3.87355481 3.87355481 2.09896111 3.73881153 3.73881153\n",
      " 1.95335435 3.61111811 3.61111811 1.85034253 3.48318827 3.48318827\n",
      " 1.78996584 3.10947117 3.10947117 0.18603068 1.66764879 1.66764879]\n"
     ]
    }
   ],
   "source": [
    "shot = '174658'\n",
    "genray_in_path = f'./shots/{shot}/genray.in'\n",
    "genray_in_dict = createInputFileDictionary(genray_in_path)\n",
    "density_profile = genray_in_dict['dentab']['prof']\n",
    "temp_profile = genray_in_dict['temtab']['prof']\n",
    "\n",
    "print(temp_profile)\n",
    "\n"
   ]
  },
  {
   "cell_type": "code",
   "execution_count": 32,
   "metadata": {},
   "outputs": [
    {
     "name": "stdout",
     "output_type": "stream",
     "text": [
      "0.1\n",
      "[4.48613453e+18 4.46052391e+18 4.39110362e+18 4.27147693e+18\n",
      " 4.10693018e+18 3.95449586e+18 3.81727751e+18 3.69408239e+18\n",
      " 3.58330029e+18 3.48182826e+18 3.38667281e+18 3.29523368e+18\n",
      " 3.20500938e+18 3.11325085e+18 3.01717716e+18 2.91387608e+18\n",
      " 2.80132527e+18 2.67948547e+18 2.55071281e+18 2.41933062e+18\n",
      " 2.29080997e+18 2.16654601e+18 2.03960024e+18 1.89023392e+18\n",
      " 1.63783758e+18 4.87435790e+17]\n",
      "[4.48613453e+19 4.46052391e+19 4.39110362e+19 4.27147693e+19\n",
      " 4.10693018e+19 3.95449586e+19 3.81727751e+19 3.69408239e+19\n",
      " 3.58330029e+19 3.48182826e+19 3.38667281e+19 3.29523368e+19\n",
      " 3.20500938e+19 3.11325085e+19 3.01717716e+19 2.91387608e+19\n",
      " 2.80132527e+19 2.67948547e+19 2.55071281e+19 2.41933062e+19\n",
      " 2.29080997e+19 2.16654601e+19 2.03960024e+19 1.89023392e+19\n",
      " 1.63783758e+19 4.87435790e+18]\n",
      "[4.48613453e+19 4.46052391e+19 4.39110362e+19 4.27147693e+19\n",
      " 4.10693018e+19 3.95449586e+19 3.81727751e+19 3.69408239e+19\n",
      " 3.58330029e+19 3.48182826e+19 3.38667281e+19 3.29523368e+19\n",
      " 3.20500938e+19 3.11325085e+19 3.01717716e+19 2.91387608e+19\n",
      " 2.80132527e+19 2.67948547e+19 2.55071281e+19 2.41933062e+19\n",
      " 2.29080997e+19 2.16654601e+19 2.03960024e+19 1.89023392e+19\n",
      " 1.63783758e+19 4.87435790e+18]\n"
     ]
    },
    {
     "data": {
      "text/plain": [
       "[<matplotlib.lines.Line2D at 0x7fb9a9a2db50>]"
      ]
     },
     "execution_count": 32,
     "metadata": {},
     "output_type": "execute_result"
    },
    {
     "data": {
      "image/png": "[encoded data removed]",
      "text/plain": [
       "<Figure size 432x288 with 1 Axes>"
      ]
     },
     "metadata": {
      "needs_background": "light"
     },
     "output_type": "display_data"
    }
   ],
   "source": [
    "num_species = 3\n",
    "\n",
    "species_dens_holder = np.zeros((3, int(len(density_profile)/3)))\n",
    "species_temp_holder = np.zeros((3, int(len(temp_profile)/3)))\n",
    "\n",
    "i = 0\n",
    "j = 0\n",
    "while i < int(len(density_profile)/3):\n",
    "    for k in range(num_species):\n",
    "        species_dens_holder[k, i] = density_profile[j]\n",
    "        species_temp_holder[k, i] = temp_profile[j]\n",
    "        j = j + 1\n",
    "    i = i + 1\n",
    "    \n",
    "\n",
    "\n",
    "#print(species_dens_holder)\n",
    "# print(species_temp_holder[1, :])\n",
    "# print(species_temp_holder[2, :])\n",
    "\n",
    "with open(f'./shots/{shot}/genray.in') as file:\n",
    "    lines = file.readlines()\n",
    "\n",
    "first_den_scale = True\n",
    "first_tem_scale = True\n",
    "for line in lines:\n",
    "    if 'ndens' in line:\n",
    "        ndens = int(line.split('=')[1].split('!')[0].strip())\n",
    "        #print(ndens)\n",
    "    if 'den_scale(3)' in line and first_den_scale == True:\n",
    "        den_scale_3 = float(line.split('=')[1].split('!')[0].strip())\n",
    "        first_den_scale = False\n",
    "    if 'temp_scale(3)' in line and first_tem_scale == True:\n",
    "         tem_scale_3 = float(line.split('=')[1].split('!')[0].strip())\n",
    "         first_tem_scale = False       \n",
    "\n",
    "genray_rho = np.linspace(0, 1, ndens)\n",
    "#print(genray_rho)\n",
    "print(den_scale_3)\n",
    "# create interpolation functions\n",
    "\n",
    "# density\n",
    "genray_electron_density = interpolate.interp1d(genray_rho, species_dens_holder[0, :])\n",
    "genray_deuteron_density = interpolate.interp1d(genray_rho, species_dens_holder[1, :])\n",
    "genray_beam_density = interpolate.interp1d(genray_rho, species_dens_holder[2, :]*den_scale_3)\n",
    "\n",
    "#temperature \n",
    "genray_electron_temp = interpolate.interp1d(genray_rho, species_temp_holder[0, :])\n",
    "genray_deuteron_temp = interpolate.interp1d(genray_rho, species_temp_holder[1, :])\n",
    "genray_beam_temp = interpolate.interp1d(genray_rho, species_temp_holder[2, :]*tem_scale_3)\n",
    "\n",
    "print(genray_beam_density(genray_rho))\n",
    "print(genray_deuteron_density(genray_rho))\n",
    "print(genray_electron_density(genray_rho))\n",
    "\n",
    "%matplotlib inline\n",
    "plt.plot(genray_rho, species_temp_holder[0, :])\n",
    "plt.plot(genray_rho, species_temp_holder[1, :])\n",
    "plt.plot(genray_rho, genray_beam_temp(genray_rho))\n"
   ]
  },
  {
   "cell_type": "code",
   "execution_count": 37,
   "metadata": {},
   "outputs": [],
   "source": [
    "with open(f'./shots/{shot}/aorsa2d.in', 'r') as file:\n",
    "    lines = file.readlines()\n",
    "\n",
    "for i in range(len(lines)):\n",
    "    line = lines[i].strip()\n",
    "    if len(line) == 0:\n",
    "        continue\n",
    "    if 'S_NRHO_N' in line:\n",
    "        nrho_aorsa = int(line.split('=')[1].strip().strip(','))\n",
    "\n",
    "    if 'S_RHO_N_GRID' in line:\n",
    "        rho_aorsa = ''\n",
    "        for k in range(21):\n",
    "            rho_aorsa = rho_aorsa + lines[i + k + 1]\n",
    "\n",
    "    if 'S_N_S' in line:\n",
    "\n",
    "        edens = ''\n",
    "        for k in range(21):\n",
    "            edens = edens + lines[i + k + 1]\n",
    "\n",
    "        Ddens = ''\n",
    "        for k in range(21):\n",
    "            Ddens = Ddens + lines[i + k + 1 + 23]\n",
    "\n",
    "        Hdens = ''\n",
    "        for k in range(21):\n",
    "            Hdens = Hdens + lines[i + k + 1 + 23 + 23]\n",
    "\n",
    "        beamdens = ''\n",
    "        for k in range(21):\n",
    "            beamdens = beamdens + lines[i + k + 1 +23 + 23 + 23]\n",
    "\n",
    "        Cdens = ''\n",
    "        for k in range(21):\n",
    "            Cdens = Cdens + lines[i + k + 1 +23 + 23 + 23 + 23]\n",
    "#print(rho_aorsa)\n",
    "#print(Ddens)\n",
    "#print(edens)\n",
    "\n",
    "electron_density_aorsa = np.array(edens.split()).astype('float')\n",
    "#print(electron_density_aorsa)\n",
    "deuterium_density_aorsa = np.array(Ddens.split()).astype('float')\n",
    "\n",
    "hydrogen_density_aorsa = np.array(Hdens.split()).astype('float')\n",
    "#print(deuterium_density)\n",
    "beam_density_aorsa = np.array(beamdens.split()).astype('float')\n",
    "carbon_density_aorsa = np.array(Cdens.split()).astype('float')\n",
    "\n",
    "rho_aorsa_array = np.array(rho_aorsa.split()).astype('float')\n"
   ]
  },
  {
   "cell_type": "code",
   "execution_count": 39,
   "metadata": {},
   "outputs": [
    {
     "data": {
      "text/plain": [
       "[<matplotlib.lines.Line2D at 0x7fb9a9811580>]"
      ]
     },
     "execution_count": 39,
     "metadata": {},
     "output_type": "execute_result"
    },
    {
     "data": {
      "image/png": "[encoded data removed]",
      "text/plain": [
       "<Figure size 432x288 with 1 Axes>"
      ]
     },
     "metadata": {
      "needs_background": "light"
     },
     "output_type": "display_data"
    }
   ],
   "source": [
    "plt.plot(rho_aorsa_array, electron_density_aorsa, color='blue')\n",
    "plt.plot(rho_aorsa_array,deuterium_density_aorsa, color='red')\n",
    "plt.plot(rho_aorsa_array, hydrogen_density_aorsa, color='purple')\n",
    "plt.plot(rho_aorsa_array, beam_density_aorsa, color='orange')\n",
    "plt.plot(rho_aorsa_array, carbon_density_aorsa)"
   ]
  },
  {
   "cell_type": "code",
   "execution_count": 16,
   "metadata": {},
   "outputs": [],
   "source": [
    "def get_aorsa_profile_string_from_array(array, num_columns):\n",
    "    last_elec_dens = array[-1]\n",
    "    # Reshape the array to have the desired number of columns\n",
    "    reshaped_array = array[:-1].reshape(-1, num_columns)\n",
    "\n",
    "    # Convert the reshaped array to a string with specified scientific notation formatting\n",
    "    formatted_string = \"\"\n",
    "    for row in reshaped_array:\n",
    "        formatted_row = \"  \".join(f\"{value:.4e}\" for value in row)\n",
    "        formatted_string += formatted_row + \"\\n\"\n",
    "    formatted_string += f\"{last_elec_dens:.4e}\"\n",
    "\n",
    "    return formatted_string"
   ]
  },
  {
   "cell_type": "code",
   "execution_count": 17,
   "metadata": {},
   "outputs": [
    {
     "name": "stdout",
     "output_type": "stream",
     "text": [
      "7.2538e+00  7.2416e+00  7.2293e+00  7.2171e+00  7.2048e+00\n",
      "7.1728e+00  7.1408e+00  7.1088e+00  7.0768e+00  7.0316e+00\n",
      "6.9863e+00  6.9410e+00  6.8957e+00  6.8437e+00  6.7917e+00\n",
      "6.7397e+00  6.6877e+00  6.6350e+00  6.5824e+00  6.5297e+00\n",
      "6.4771e+00  6.4258e+00  6.3744e+00  6.3231e+00  6.2718e+00\n",
      "6.2218e+00  6.1718e+00  6.1217e+00  6.0717e+00  6.0228e+00\n",
      "5.9740e+00  5.9252e+00  5.8763e+00  5.8286e+00  5.7809e+00\n",
      "5.7332e+00  5.6855e+00  5.6389e+00  5.5923e+00  5.5457e+00\n",
      "5.4991e+00  5.4536e+00  5.4080e+00  5.3625e+00  5.3170e+00\n",
      "5.2725e+00  5.2280e+00  5.1835e+00  5.1391e+00  5.0956e+00\n",
      "5.0522e+00  5.0087e+00  4.9653e+00  4.9229e+00  4.8805e+00\n",
      "4.8381e+00  4.7957e+00  4.7543e+00  4.7130e+00  4.6716e+00\n",
      "4.6303e+00  4.5900e+00  4.5498e+00  4.5095e+00  4.4693e+00\n",
      "4.4302e+00  4.3910e+00  4.3519e+00  4.3128e+00  4.2749e+00\n",
      "4.2369e+00  4.1990e+00  4.1611e+00  4.1244e+00  4.0878e+00\n",
      "4.0511e+00  4.0145e+00  3.9793e+00  3.9440e+00  3.9088e+00\n",
      "3.8736e+00  3.8399e+00  3.8062e+00  3.7725e+00  3.7388e+00\n",
      "3.7069e+00  3.6750e+00  3.6430e+00  3.6111e+00  3.5791e+00\n",
      "3.5472e+00  3.5152e+00  3.4832e+00  3.3898e+00  3.2963e+00\n",
      "3.2029e+00  3.1095e+00  2.7490e+00  2.3886e+00  2.0281e+00\n",
      "1.6676e+00\n"
     ]
    }
   ],
   "source": [
    "# density\n",
    "touse_aorsa_electron_dens = genray_electron_density(rho_aorsa_array)\n",
    "touse_aorsa_deuteron_dens = genray_deuteron_density(rho_aorsa_array)\n",
    "touse_aorsa_beam_dens = genray_beam_density(rho_aorsa_array)\n",
    "\n",
    "# temperature \n",
    "touse_aorsa_electron_temp = genray_electron_temp(rho_aorsa_array)\n",
    "touse_aorsa_deuteron_temp = genray_deuteron_temp(rho_aorsa_array)\n",
    "touse_aorsa_beam_temp = genray_beam_temp(rho_aorsa_array)\n",
    "\n",
    "\n",
    "# Replace this with your actual numpy array\n",
    "\n",
    "# density\n",
    "touse_string_elec_dens = get_aorsa_profile_string_from_array(touse_aorsa_electron_dens, num_columns=5)\n",
    "touse_string_deut_dens = get_aorsa_profile_string_from_array(touse_aorsa_deuteron_dens, num_columns=5)\n",
    "touse_string_beam_dens = get_aorsa_profile_string_from_array(touse_aorsa_beam_dens, num_columns=5)\n",
    "\n",
    "# temperature\n",
    "touse_string_elec_temp = get_aorsa_profile_string_from_array(touse_aorsa_electron_temp, num_columns=5)\n",
    "touse_string_deut_temp = get_aorsa_profile_string_from_array(touse_aorsa_deuteron_temp, num_columns=5)\n",
    "touse_string_beam_temp = get_aorsa_profile_string_from_array(touse_aorsa_beam_temp, num_columns=5)\n",
    "\n",
    "#print(touse_string_elec_dens)\n",
    "print(touse_string_deut_temp)\n",
    "#print(touse_string_beam_dens)"
   ]
  },
  {
   "cell_type": "code",
   "execution_count": 35,
   "metadata": {},
   "outputs": [
    {
     "data": {
      "text/plain": [
       "[<matplotlib.lines.Line2D at 0x7fb9a9910790>]"
      ]
     },
     "execution_count": 35,
     "metadata": {},
     "output_type": "execute_result"
    },
    {
     "data": {
      "image/png": "[encoded data removed]",
      "text/plain": [
       "<Figure size 432x288 with 1 Axes>"
      ]
     },
     "metadata": {
      "needs_background": "light"
     },
     "output_type": "display_data"
    }
   ],
   "source": [
    "plt.plot(rho_aorsa_array, touse_aorsa_beam_dens, 'r')\n",
    "plt.plot(rho_aorsa_array, touse_aorsa_electron_dens, 'blue')\n",
    "plt.plot(rho_aorsa_array, touse_aorsa_deuteron_dens, color='green', linestyle='--')\n",
    "plt.plot(rho_aorsa_array, carbon_density_aorsa)\n"
   ]
  },
  {
   "cell_type": "code",
   "execution_count": 43,
   "metadata": {},
   "outputs": [
    {
     "name": "stdout",
     "output_type": "stream",
     "text": [
      "2.5627e+00  2.5631e+00  2.5622e+00  2.5598e+00  2.5560e+00\n",
      "2.5539e+00  2.5499e+00  2.5438e+00  2.5365e+00  2.5328e+00\n",
      "2.5278e+00  2.5206e+00  2.5121e+00  2.5066e+00  2.5007e+00\n",
      "2.4937e+00  2.4859e+00  2.4762e+00  2.4658e+00  2.4548e+00\n",
      "2.4429e+00  2.4286e+00  2.4142e+00  2.4007e+00  2.3866e+00\n",
      "2.3701e+00  2.3537e+00  2.3387e+00  2.3240e+00  2.3070e+00\n",
      "2.2898e+00  2.2740e+00  2.2592e+00  2.2438e+00  2.2288e+00\n",
      "2.2141e+00  2.2004e+00  2.1873e+00  2.1751e+00  2.1632e+00\n",
      "2.1522e+00  2.1419e+00  2.1327e+00  2.1245e+00  2.1176e+00\n",
      "2.1119e+00  2.1070e+00  2.1025e+00  2.0992e+00  2.0978e+00\n",
      "2.0976e+00  2.0979e+00  2.0991e+00  2.1018e+00  2.1058e+00\n",
      "2.1112e+00  2.1172e+00  2.1240e+00  2.1313e+00  2.1395e+00\n",
      "2.1485e+00  2.1592e+00  2.1703e+00  2.1818e+00  2.1937e+00\n",
      "2.2071e+00  2.2203e+00  2.2330e+00  2.2462e+00  2.2615e+00\n",
      "2.2771e+00  2.2916e+00  2.3054e+00  2.3195e+00  2.3335e+00\n",
      "2.3474e+00  2.3609e+00  2.3736e+00  2.3859e+00  2.3975e+00\n",
      "2.4085e+00  2.4181e+00  2.4267e+00  2.4343e+00  2.4415e+00\n",
      "2.4491e+00  2.4564e+00  2.4628e+00  2.4685e+00  2.4774e+00\n",
      "2.4861e+00  2.4945e+00  2.5022e+00  2.5282e+00  2.5560e+00\n",
      "2.5870e+00  2.6195e+00  2.9106e+00  3.3607e+00  4.1513e+00\n",
      "5.8839e+00\n"
     ]
    }
   ],
   "source": [
    "Z_spec = [1, 1, 1, 6]\n",
    "\n",
    "Z_eff = np.zeros_like(rho_aorsa_array)\n",
    "\n",
    "for i in range(Z_eff.shape[0]):\n",
    "    Z_eff[i] = (Z_spec[0]**2*touse_aorsa_deuteron_dens[i] + Z_spec[1]**2*hydrogen_density_aorsa[i] +\\\n",
    "                Z_spec[2]**2*touse_aorsa_beam_dens[i] + Z_spec[3]**2 * carbon_density_aorsa[i]) / touse_aorsa_electron_dens[i]\n",
    "#print(Z_eff)\n",
    "\n",
    "Z_eff_old = np.zeros_like(rho_aorsa_array)\n",
    "\n",
    "for i in range(Z_eff_old.shape[0]):\n",
    "    Z_eff_old[i] = (Z_spec[0]**2*deuterium_density_aorsa[i] + Z_spec[1]**2*hydrogen_density_aorsa[i] +\\\n",
    "                Z_spec[2]**2*beam_density_aorsa[i] + Z_spec[3]**2 * carbon_density_aorsa[i]) / touse_aorsa_electron_dens[i]\n",
    "#print('--')\n",
    "#print(Z_eff_old)\n",
    "\n",
    "touse_Zeff = get_aorsa_profile_string_from_array(Z_eff, num_columns=5)\n",
    "print(touse_Zeff)"
   ]
  },
  {
   "cell_type": "code",
   "execution_count": 72,
   "metadata": {},
   "outputs": [],
   "source": [
    "\n",
    "# load up the electron, deuteron, and beam density\n",
    "list_elec_dens = touse_string_elec_dens.split('\\n')\n",
    "list_deut_dens = touse_string_deut_dens.split('\\n')\n",
    "list_beam_dens = touse_string_beam_dens.split('\\n')\n",
    "\n",
    "list_elec_temp = touse_string_elec_temp.split('\\n')\n",
    "list_deut_temp = touse_string_deut_temp.split('\\n')\n",
    "list_beam_temp = touse_string_beam_temp.split('\\n')\n",
    "\n",
    "list_Zeff = touse_Zeff.split('\\n')\n",
    "\n",
    "\n",
    "\n",
    "for i in range(len(lines)):\n",
    "    line = lines[i].strip()\n",
    "    if len(line) == 0:\n",
    "        continue\n",
    "    if 'S_N_S' in line:\n",
    "\n",
    "        #electron density write to file \n",
    "        for k in range(21):\n",
    "            lines[i + k + 1] = \"     \"+list_elec_dens[k]+\"\\n\"\n",
    "\n",
    "        #deuteron density write to file \n",
    "        for k in range(21):\n",
    "            lines[i + k + 24] = \"     \"+list_deut_dens[k]+\"\\n\"\n",
    "\n",
    "        #deuteron density write to file \n",
    "        for k in range(21):\n",
    "            lines[i + k + 24 + 23 + 23] = \"     \"+list_beam_dens[k]+\"\\n\"\n",
    "\n",
    "    if 'S_T_S' in line:\n",
    "\n",
    "        #electron density write to file \n",
    "        for k in range(21):\n",
    "            lines[i + k + 1] = \"     \"+list_elec_temp[k]+\"\\n\"\n",
    "\n",
    "        #deuteron density write to file \n",
    "        for k in range(21):\n",
    "            lines[i + k + 24] = \"     \"+list_deut_temp[k]+\"\\n\"\n",
    "\n",
    "        #deuteron density write to file \n",
    "        for k in range(21):\n",
    "            lines[i + k + 24 + 23 + 23] = \"     \"+list_beam_temp[k]+\"\\n\"\n",
    "\n",
    "    if 'S_ZEFF' in line:\n",
    "\n",
    "        #electron density write to file \n",
    "        for k in range(21):\n",
    "            lines[i + k + 1] = \"     \"+list_Zeff[k]+\"\\n\"\n",
    "\n",
    "\n"
   ]
  },
  {
   "cell_type": "code",
   "execution_count": 73,
   "metadata": {},
   "outputs": [],
   "source": [
    "# SAVE TO FILE\n",
    "lineout = \"\".join(lines)       \n",
    "with open(f'./shots/{shot}/aorsa2d_copy.in', 'w') as file:\n",
    "    file.write(lineout)"
   ]
  },
  {
   "cell_type": "code",
   "execution_count": 23,
   "metadata": {},
   "outputs": [
    {
     "name": "stdout",
     "output_type": "stream",
     "text": [
      "4.486e+19  4.480e+19  4.473e+19  4.467e+19  4.461e+19\n"
     ]
    }
   ],
   "source": [
    "print(touse_string_deut_dens.split('\\n')[0])"
   ]
  },
  {
   "cell_type": "code",
   "execution_count": 33,
   "metadata": {},
   "outputs": [
    {
     "data": {
      "text/plain": [
       "True"
      ]
     },
     "execution_count": 33,
     "metadata": {},
     "output_type": "execute_result"
    }
   ],
   "source": [
    "liney = 'hello dog cat 3'\n",
    "'dog' in liney"
   ]
  },
  {
   "cell_type": "code",
   "execution_count": 25,
   "metadata": {},
   "outputs": [
    {
     "data": {
      "text/plain": [
       "array([1., 2., 3., 4., 5.])"
      ]
     },
     "execution_count": 25,
     "metadata": {},
     "output_type": "execute_result"
    }
   ],
   "source": [
    "testing = '1, 2, 3, 4, 5'\n",
    "np.array(testing.split(',')).astype('float')"
   ]
  }
 ],
 "metadata": {
  "kernelspec": {
   "display_name": "base",
   "language": "python",
   "name": "python3"
  },
  "language_info": {
   "codemirror_mode": {
    "name": "ipython",
    "version": 3
   },
   "file_extension": ".py",
   "mimetype": "text/x-python",
   "name": "python",
   "nbconvert_exporter": "python",
   "pygments_lexer": "ipython3",
   "version": "3.8.8"
  },
  "orig_nbformat": 4
 },
 "nbformat": 4,
 "nbformat_minor": 2
}
