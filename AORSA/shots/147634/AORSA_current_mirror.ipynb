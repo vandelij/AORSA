{
 "cells": [
  {
   "cell_type": "code",
   "execution_count": 3,
   "metadata": {},
   "outputs": [
    {
     "ename": "ModuleNotFoundError",
     "evalue": "No module named 'plasma'",
     "output_type": "error",
     "traceback": [
      "\u001b[1;31m---------------------------------------------------------------------------\u001b[0m",
      "\u001b[1;31mModuleNotFoundError\u001b[0m                       Traceback (most recent call last)",
      "Cell \u001b[1;32mIn[3], line 8\u001b[0m\n\u001b[0;32m      6\u001b[0m \u001b[38;5;28;01mimport\u001b[39;00m \u001b[38;5;21;01msys\u001b[39;00m\n\u001b[0;32m      7\u001b[0m sys\u001b[38;5;241m.\u001b[39mpath\u001b[38;5;241m.\u001b[39minsert(\u001b[38;5;241m0\u001b[39m,os\u001b[38;5;241m.\u001b[39mgetcwd()\u001b[38;5;241m+\u001b[39m\u001b[38;5;124m'\u001b[39m\u001b[38;5;124m/plasma\u001b[39m\u001b[38;5;124m'\u001b[39m)\n\u001b[1;32m----> 8\u001b[0m \u001b[38;5;28;01mimport\u001b[39;00m \u001b[38;5;21;01mplasma\u001b[39;00m\n\u001b[0;32m      9\u001b[0m \u001b[38;5;28;01mimport\u001b[39;00m \u001b[38;5;21;01mequilibrium_process\u001b[39;00m \u001b[38;5;28;01mas\u001b[39;00m \u001b[38;5;21;01meqdsk\u001b[39;00m\n\u001b[0;32m     10\u001b[0m get_ipython()\u001b[38;5;241m.\u001b[39mrun_line_magic(\u001b[38;5;124m'\u001b[39m\u001b[38;5;124mmatplotlib\u001b[39m\u001b[38;5;124m'\u001b[39m, \u001b[38;5;124m'\u001b[39m\u001b[38;5;124minline\u001b[39m\u001b[38;5;124m'\u001b[39m)\n",
      "\u001b[1;31mModuleNotFoundError\u001b[0m: No module named 'plasma'"
     ]
    }
   ],
   "source": [
    "import numpy as np\n",
    "import matplotlib\n",
    "import matplotlib.pyplot as plt\n",
    "import f90nml as f90 \n",
    "import os\n",
    "import sys\n",
    "sys.path.insert(0,os.getcwd()+'/plasma')\n",
    "import plasma\n",
    "import equilibrium_process as eqdsk\n",
    "%matplotlib inline"
   ]
  },
  {
   "cell_type": "code",
   "execution_count": 2,
   "metadata": {},
   "outputs": [
    {
     "name": "stdout",
     "output_type": "stream",
     "text": [
      "C:\\Users\\jacob\n",
      "C:\\Users\\jacob/OneDrive/Desktop/Desktop MIT/Research Folder/Steve Research Folder Master/AORSA_MCGO_SCRIPTS/AORSA/AORSA/shots/147634/\n",
      "C:\\Users\\jacob/OneDrive/Desktop/Desktop MIT/Research Folder/Steve Research Folder Master/AORSA_MCGO_SCRIPTS/AORSA/AORSA/shots/147634//g147634.04525\n"
     ]
    }
   ],
   "source": [
    "# Local Directories \n",
    "#HOME = '/c/Users/jacob/'\n",
    "HOME = os.path.expanduser('~')\n",
    "#workdir = HOME+'/Desktop/HFS_HHFW_antenna/AORSA_MCGO_Scripts/AORSA/shots/147634/'  # mfews absolute path to working directory \n",
    "#workdir = HOME+'/Desktop/HFS_HHFW_antenna/AORSA_MCGO_Scripts/AORSA/shots/174658/'  # mfews absolute path to working directory \n",
    "workdir = HOME+\"/OneDrive/Desktop/Desktop MIT/Research Folder/Steve Research Folder Master/AORSA_MCGO_SCRIPTS/AORSA/AORSA/shots/147634/\" # home ws\n",
    "#workdir = HOME+\"/OneDrive/Desktop/Desktop MIT/Research Folder/Steve Research Folder Master/AORSA_MCGO_SCRIPTS/AORSA/AORSA/shots/174658/\" # home ws\n",
    "#workdir = HOME+'/Desktop/HFS_HHFW_antenna/AORSA_MCGO_Scripts/AORSA/shots/174658'  # absolute path to working directory\n",
    "#eqdsk_file = workdir + '/g147634.04525'\n",
    "#eqdsk_file = os.path.join(workdir, '/g147634.04525')\n",
    "#eqdsk_file = workdir + '/g174658.3020'\n",
    "eqdsk_file = workdir + '/g147634.04525'\n",
    "print(HOME)\n",
    "print(workdir)\n",
    "print(eqdsk_file)"
   ]
  }
 ],
 "metadata": {
  "kernelspec": {
   "display_name": "base",
   "language": "python",
   "name": "python3"
  },
  "language_info": {
   "codemirror_mode": {
    "name": "ipython",
    "version": 3
   },
   "file_extension": ".py",
   "mimetype": "text/x-python",
   "name": "python",
   "nbconvert_exporter": "python",
   "pygments_lexer": "ipython3",
   "version": "3.10.9"
  }
 },
 "nbformat": 4,
 "nbformat_minor": 2
}
