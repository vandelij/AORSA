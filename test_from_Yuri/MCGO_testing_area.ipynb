{
 "cells": [
  {
   "cell_type": "code",
   "execution_count": 1,
   "metadata": {},
   "outputs": [],
   "source": [
    "from numpy import *\n",
    "from mpl_toolkits.mplot3d import Axes3D\n",
    "\n",
    "from pylab import *\n",
    "from matplotlib import rc \n",
    "from matplotlib.pyplot import cm,figure,axes,plot,xlabel,ylabel,title,savefig,show\n",
    "\n",
    "import os\n",
    "import math\n",
    "import matplotlib as mpl\n",
    "import matplotlib.pyplot as plt\n",
    "import numpy as np\n",
    "import time\n",
    "import pylab as pylab\n",
    "import scipy.io.netcdf as nc\n",
    "matplotlib.interactive(True) # no plots on screen\n",
    "#matplotlib.interactive(False) # with plots on screen"
   ]
  },
  {
   "cell_type": "code",
   "execution_count": 2,
   "metadata": {},
   "outputs": [],
   "source": [
    "#-----------------------------------------------\n",
    "# NetCDF issues: machine-dependent\n",
    "# Try netcdf=4 to envoke netCDF4,\n",
    "# Or try netcdf=2 to work with older netCDF.\n",
    "netcdf=4\n",
    "#-----------------------------------------------\n",
    "if netcdf==4: from netCDF4 import Dataset # YuP\n",
    "#-----------------------------------------------\n",
    "\n",
    "file='NSTX_ZOW_Maxw2_RF000_dt05_taufrac1m4_10K_t10ms_r39m.nc'\n",
    "\n",
    "\n",
    "\n",
    "fnt  = 14   # font size for axis numbers (see 'param=' below) \n",
    "linw = 1.0  # LineWidth for linear plots\n",
    "linwc= 1.0  # LineWidth for contour plots\n",
    "dot_size=2. # Marker size in plots of particles as dots [pt]\n",
    "Ncont= 30   # Number of contour levels\n",
    "DCmn=0.0\n",
    "DCmx=0.0\n",
    "i_R_start=1 # Range of flux surfaces where to plot f(u,pitch)\n",
    "i_R_stop =20\n",
    "\n",
    "isave_eps=1 # To save eps format files (png are saved in any case)\n",
    "iplot_ptcl_list=0 # Particles as dots in (R,Z) and in (Vpar,Vper)\n",
    "            #(but only if saved, save_ptcl_list='enabled' in mcgoinput)\n",
    "\n",
    "\n",
    "c=2.99792458e8 # speed of light [m/s]\n",
    "\n",
    "#------------------------------------------------------------\n",
    "#set fonts and line thicknesses\n",
    "params = {\n",
    "    'axes.linewidth': linw,\n",
    "    'lines.linewidth': linw,\n",
    "    'axes.labelsize': fnt+4,\n",
    "    'text.fontsize': fnt+4,\n",
    "    'legend.fontsize': fnt,\n",
    "    'xtick.labelsize':fnt,\n",
    "    'ytick.labelsize':fnt,\n",
    "    'xtick.linewidth':linw,\n",
    "    'ytick.linewidth':linw,\n",
    "    'font.weight'  : 'regular',\n",
    "    'format' : '%0.1e'\n",
    "}\n",
    "##pylab.rcParams.update(params)\n",
    "#rc.defaults() #to restore defaults\n",
    "mpl.rcParams['font.size']=fnt+2  # set font size for text in mesh-plots\n",
    "\n",
    "#Input netcdf file into a structure:\n",
    "if netcdf==2: \n",
    "    s_file=nc.netcdf_file(file,'r')\n",
    "    if igzip==1:\n",
    "        os.popen('gzip file')\n",
    "\n",
    "if netcdf==4: \n",
    "    s_file= Dataset(file, 'r', format='NETCDF4')"
   ]
  },
  {
   "cell_type": "code",
   "execution_count": 3,
   "metadata": {},
   "outputs": [
    {
     "name": "stdout",
     "output_type": "stream",
     "text": [
      "The input file,  NSTX_ZOW_Maxw2_RF000_dt05_taufrac1m4_10K_t10ms_r39m.nc , contains:\n",
      "========================================\n",
      "The global attributes:  dict_keys(['irbnd_dim', 'ivbnd_dim', 'iptchbnd_dim', 'nparts_dim', 'nlim_dim', 'rdim', 'twodim', 'fourdim', 'fivedim'])\n",
      "File contains variables:  dict_keys(['raxis', 'zaxis', 'xlimiter', 'ylimiter', 'nparts_tot', 'irbnd', 'ivbnd', 'iptchbnd', 'ptchbnd', 'vbnd', 'radbnd', 'psibin', 'rho_sqpolflx', 'vdstb'])\n",
      "========================================\n",
      "The radial dimension is 20\n",
      "The velocity dimesnion is 51\n",
      "The pitch ange dimension is 51\n",
      "(20, 51, 51)\n"
     ]
    },
    {
     "name": "stderr",
     "output_type": "stream",
     "text": [
      "<ipython-input-3-f8a8b64c0945>:9: DeprecationWarning: np.asscalar(a) is deprecated since NumPy v1.16, use a.item() instead\n",
      "  raxis=np.asscalar(raxis) # [m]\n",
      "<ipython-input-3-f8a8b64c0945>:10: DeprecationWarning: np.asscalar(a) is deprecated since NumPy v1.16, use a.item() instead\n",
      "  zaxis=np.asscalar(zaxis) # [m]\n",
      "<ipython-input-3-f8a8b64c0945>:18: DeprecationWarning: np.asscalar(a) is deprecated since NumPy v1.16, use a.item() instead\n",
      "  irbnd=np.asscalar(irbnd) #Length of R grid for distr func (at bin bndries)\n",
      "<ipython-input-3-f8a8b64c0945>:20: DeprecationWarning: np.asscalar(a) is deprecated since NumPy v1.16, use a.item() instead\n",
      "  ivbnd=np.asscalar(ivbnd) #Length of vel. grid for distr func\n",
      "<ipython-input-3-f8a8b64c0945>:22: DeprecationWarning: np.asscalar(a) is deprecated since NumPy v1.16, use a.item() instead\n",
      "  iptchbnd=np.asscalar(iptchbnd) #Length of pitch-angle grid for distr func\n"
     ]
    }
   ],
   "source": [
    "print('The input file, ',file,', contains:')\n",
    "print('========================================')\n",
    "print(\"The global attributes: \",s_file.dimensions.keys())     \n",
    "print(\"File contains variables: \",s_file.variables.keys())\n",
    "print('========================================')\n",
    "\n",
    "raxis=s_file.variables['raxis'].getValue()  #getValue() for scalar\n",
    "zaxis=s_file.variables['zaxis'].getValue()  #getValue() for scalar\n",
    "raxis=np.asscalar(raxis) # [m]\n",
    "zaxis=np.asscalar(zaxis) # [m]\n",
    "\n",
    "xlimiter= s_file.variables['xlimiter'] #[m] R-coord of limiter(wall)\n",
    "ylimiter= s_file.variables['ylimiter'] #[m] Z-coord of limiter(wall)\n",
    "xlimiter=np.asarray(xlimiter)\n",
    "ylimiter=np.asarray(ylimiter)\n",
    "\n",
    "irbnd=s_file.variables['irbnd'].getValue()  #getValue() for scalar\n",
    "irbnd=np.asscalar(irbnd) #Length of R grid for distr func (at bin bndries)\n",
    "ivbnd=s_file.variables['ivbnd'].getValue() \n",
    "ivbnd=np.asscalar(ivbnd) #Length of vel. grid for distr func\n",
    "iptchbnd=s_file.variables['iptchbnd'].getValue() \n",
    "iptchbnd=np.asscalar(iptchbnd) #Length of pitch-angle grid for distr func\n",
    "\n",
    "radbnd= s_file.variables['radbnd']\n",
    "radbnd=np.asarray(radbnd)   #Rad. grid [m] for distr. func.\n",
    "vbnd= s_file.variables['vbnd']\n",
    "vbnd=np.asarray(vbnd)       #Vel. grid [m/s] for distr. func.\n",
    "ptchbnd= s_file.variables['ptchbnd']\n",
    "ptchbnd=np.asarray(ptchbnd) #Pitch angle grid [rad] for distr. func.\n",
    "\n",
    "psibin= s_file.variables['psibin']\n",
    "psibin=np.asarray(psibin)   #PSI pol.flux [Wb] at radbnd grid points\n",
    "rho_sqpolflx= s_file.variables['rho_sqpolflx']\n",
    "rho_sqpolflx=np.asarray(rho_sqpolflx) #Norm-ed rho~sqrt(pol.flux) at radbnd\n",
    "\n",
    "vdstb= s_file.variables['vdstb']\n",
    "vdstb=np.asarray(vdstb) #Midplane distr.func aver over [tim_fdist_1;tim_fdist_2]\n",
    "#print 'shape of vdstb', shape(vdstb)\n",
    "\n",
    "print(f'The radial dimension is {irbnd}')\n",
    "print(f'The velocity dimesnion is {ivbnd}')\n",
    "print(f'The pitch ange dimension is {iptchbnd}')\n",
    "print(vdstb.shape)"
   ]
  },
  {
   "cell_type": "code",
   "execution_count": 19,
   "metadata": {},
   "outputs": [
    {
     "name": "stdout",
     "output_type": "stream",
     "text": [
      "(20,)\n"
     ]
    },
    {
     "name": "stderr",
     "output_type": "stream",
     "text": [
      "<ipython-input-19-3d4e83cedb88>:19: RuntimeWarning: divide by zero encountered in log10\n",
      "  DDD=np.nan_to_num(np.log10(f_at_rho))\n"
     ]
    },
    {
     "name": "stdout",
     "output_type": "stream",
     "text": [
      "0.3644\n"
     ]
    },
    {
     "data": {
      "image/png": "[encoded data removed]",
      "text/plain": [
       "<Figure size 432x288 with 1 Axes>"
      ]
     },
     "metadata": {
      "needs_background": "light"
     },
     "output_type": "display_data"
    }
   ],
   "source": [
    "# Attempt to make the distrobution function plot with \n",
    "print(radbnd.shape)\n",
    "\n",
    "i_R = 2\n",
    "R = radbnd[i_R]\n",
    "\n",
    "V, Theta = np.meshgrid(vbnd, ptchbnd)\n",
    "f_at_rho = vdstb[i_R, :, :]\n",
    "\n",
    "Vpara = V*np.cos(Theta)/c\n",
    "Vperp = V*np.sin(Theta)/c\n",
    "plt.rc('xtick', labelsize = 14)\n",
    "plt.rc('ytick', labelsize = 14)\n",
    "plt.rc('axes', labelsize = 16)\n",
    "plt.rc('axes', titlesize = 16)\n",
    "plt.rc('figure', titlesize = 18)\n",
    "plt.rc('legend', fontsize = 14)\n",
    "fig,ax = plt.subplots()\n",
    "DDD=np.nan_to_num(np.log10(f_at_rho))\n",
    "DDD=DDD.transpose()\n",
    "DCmax=np.max(DDD)\n",
    "Ncont= 300   # Number of contour levels\n",
    "DCmin= DCmax-8 # limits for plots of log10(f)\n",
    "levels=np.arange(DCmin,DCmax,(DCmax-DCmin)/(Ncont-1))\n",
    "#pc = ax.pcolormesh(Vpara, Vperp, np.log10(f_at_rho.T+1), )\n",
    "#ax.contour(Vpara, Vperp, DDD, levels=levels)\n",
    "ax.contourf(Vpara, Vperp, DDD, levels=levels)\n",
    "#ax.contourf(VPARA, VPERP, np.log(relevantF.T), cmap=cm.PuBu_r, levels = 100)\n",
    "ax.set_aspect('equal')\n",
    "ax.set_xlabel(\"$v_\\parallel / c$\")\n",
    "ax.set_ylabel(\"$v_\\perp / c$\")\n",
    "ax.set_ylim([0,.001]); ax.set_xlim([-.001,.001])\n",
    "r_rounded = round(radbnd[i_R], 4)\n",
    "print(r_rounded)\n",
    "ax.set_title(f'Distribution function at R = {r_rounded}')\n",
    "#fig.colorbar(pc)\n",
    "plt.axis('equal')\n",
    "plt.show()\n",
    "\n",
    "\n"
   ]
  },
  {
   "cell_type": "code",
   "execution_count": null,
   "metadata": {},
   "outputs": [],
   "source": []
  }
 ],
 "metadata": {
  "kernelspec": {
   "display_name": "base",
   "language": "python",
   "name": "python3"
  },
  "language_info": {
   "codemirror_mode": {
    "name": "ipython",
    "version": 3
   },
   "file_extension": ".py",
   "mimetype": "text/x-python",
   "name": "python",
   "nbconvert_exporter": "python",
   "pygments_lexer": "ipython3",
   "version": "3.8.8"
  },
  "orig_nbformat": 4
 },
 "nbformat": 4,
 "nbformat_minor": 2
}
